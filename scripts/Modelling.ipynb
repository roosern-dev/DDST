{
 "cells": [
  {
   "cell_type": "code",
   "execution_count": 25,
   "metadata": {},
   "outputs": [
    {
     "name": "stdout",
     "output_type": "stream",
     "text": [
      "file:///Users/rusernyeoh/projects/datium_data_science_test/DDST/experiments\n"
     ]
    }
   ],
   "source": [
    "import pandas as pd\n",
    "import sklearn\n",
    "from sklearn.preprocessing import OneHotEncoder, StandardScaler, MinMaxScaler\n",
    "from sklearn.model_selection import GridSearchCV, train_test_split, cross_validate\n",
    "from sklearn.metrics import r2_score, max_error, mean_absolute_error\n",
    "from sklearn.ensemble import RandomForestRegressor, GradientBoostingRegressor\n",
    "from sklearn.tree import DecisionTreeRegressor\n",
    "from sklearn.neural_network import MLPRegressor\n",
    "from sklearn.linear_model import LinearRegression\n",
    "from sklearn.model_selection import cross_val_score, GridSearchCV\n",
    "from sklearn.base import BaseEstimator\n",
    "\n",
    "import mlflow\n",
    "\n",
    "import os\n",
    "import pathlib\n",
    "import joblib\n",
    "\n",
    "current_path = os.getcwd()\n",
    "abs_current_path = os.path.abspath(current_path)\n",
    "abs_one_level_up = os.path.split(abs_current_path)[0]\n",
    "abs_experiments_path = os.path.join(abs_one_level_up, \"experiments\")\n",
    "experiments_folder_uri = pathlib.Path(abs_experiments_path).as_uri()\n",
    "\n",
    "print(experiments_folder_uri)\n",
    "\n",
    "mlflow.set_tracking_uri(experiments_folder_uri)\n",
    "\n",
    "\n"
   ]
  },
  {
   "cell_type": "markdown",
   "metadata": {},
   "source": [
    "### Load cleaned dataset"
   ]
  },
  {
   "cell_type": "code",
   "execution_count": 4,
   "metadata": {},
   "outputs": [],
   "source": [
    "cleaned_dataset_save_path = r\"../datasets/cleaned_train.csv\"\n",
    "\n",
    "train_dataset = pd.read_csv(cleaned_dataset_save_path)"
   ]
  },
  {
   "cell_type": "markdown",
   "metadata": {},
   "source": [
    "### Start model training"
   ]
  },
  {
   "cell_type": "markdown",
   "metadata": {},
   "source": [
    "Split features and targets"
   ]
  },
  {
   "cell_type": "code",
   "execution_count": 5,
   "metadata": {},
   "outputs": [],
   "source": [
    "y_train = train_dataset['Sold_Amount']\n",
    "x_train = train_dataset.drop('Sold_Amount', axis=1)"
   ]
  },
  {
   "cell_type": "code",
   "execution_count": 6,
   "metadata": {},
   "outputs": [
    {
     "name": "stdout",
     "output_type": "stream",
     "text": [
      "(46855,)\n",
      "(46855, 790)\n"
     ]
    }
   ],
   "source": [
    "#verify dataset shape\n",
    "print(y_train.shape)\n",
    "print(x_train.shape)"
   ]
  },
  {
   "cell_type": "code",
   "execution_count": 7,
   "metadata": {},
   "outputs": [
    {
     "data": {
      "text/html": [
       "<div>\n",
       "<style scoped>\n",
       "    .dataframe tbody tr th:only-of-type {\n",
       "        vertical-align: middle;\n",
       "    }\n",
       "\n",
       "    .dataframe tbody tr th {\n",
       "        vertical-align: top;\n",
       "    }\n",
       "\n",
       "    .dataframe thead th {\n",
       "        text-align: right;\n",
       "    }\n",
       "</style>\n",
       "<table border=\"1\" class=\"dataframe\">\n",
       "  <thead>\n",
       "    <tr style=\"text-align: right;\">\n",
       "      <th></th>\n",
       "      <th>Unnamed: 0</th>\n",
       "      <th>YearGroup</th>\n",
       "      <th>MonthGroup</th>\n",
       "      <th>SequenceNum</th>\n",
       "      <th>GearNum</th>\n",
       "      <th>DoorNum</th>\n",
       "      <th>EngineSize</th>\n",
       "      <th>EngineDescription</th>\n",
       "      <th>Cylinders</th>\n",
       "      <th>FuelCapacity</th>\n",
       "      <th>...</th>\n",
       "      <th>Branch_Tamworth (NSW)</th>\n",
       "      <th>Branch_Townsville (QLD)</th>\n",
       "      <th>Branch_Tullamarine (VIC)</th>\n",
       "      <th>Branch_Welshpool (WA)</th>\n",
       "      <th>SaleCategory_Auction</th>\n",
       "      <th>SaleCategory_Dealer Only Auction</th>\n",
       "      <th>SaleCategory_Fixed Price</th>\n",
       "      <th>SaleCategory_Pickles Online</th>\n",
       "      <th>SaleCategory_Special Fixed Price</th>\n",
       "      <th>SaleCategory_Tender</th>\n",
       "    </tr>\n",
       "  </thead>\n",
       "  <tbody>\n",
       "    <tr>\n",
       "      <th>0</th>\n",
       "      <td>0</td>\n",
       "      <td>0.72</td>\n",
       "      <td>0.000000</td>\n",
       "      <td>0.000000</td>\n",
       "      <td>0.375</td>\n",
       "      <td>0.666667</td>\n",
       "      <td>0.496967</td>\n",
       "      <td>0.003628</td>\n",
       "      <td>0.333333</td>\n",
       "      <td>0.272109</td>\n",
       "      <td>...</td>\n",
       "      <td>0.0</td>\n",
       "      <td>0.0</td>\n",
       "      <td>0.0</td>\n",
       "      <td>0.0</td>\n",
       "      <td>1.0</td>\n",
       "      <td>0.0</td>\n",
       "      <td>0.0</td>\n",
       "      <td>0.0</td>\n",
       "      <td>0.0</td>\n",
       "      <td>0.0</td>\n",
       "    </tr>\n",
       "    <tr>\n",
       "      <th>1</th>\n",
       "      <td>1</td>\n",
       "      <td>0.12</td>\n",
       "      <td>0.583333</td>\n",
       "      <td>0.341667</td>\n",
       "      <td>0.375</td>\n",
       "      <td>1.000000</td>\n",
       "      <td>0.536141</td>\n",
       "      <td>0.003878</td>\n",
       "      <td>0.333333</td>\n",
       "      <td>0.238095</td>\n",
       "      <td>...</td>\n",
       "      <td>0.0</td>\n",
       "      <td>0.0</td>\n",
       "      <td>0.0</td>\n",
       "      <td>0.0</td>\n",
       "      <td>1.0</td>\n",
       "      <td>0.0</td>\n",
       "      <td>0.0</td>\n",
       "      <td>0.0</td>\n",
       "      <td>0.0</td>\n",
       "      <td>0.0</td>\n",
       "    </tr>\n",
       "    <tr>\n",
       "      <th>2</th>\n",
       "      <td>2</td>\n",
       "      <td>0.88</td>\n",
       "      <td>0.000000</td>\n",
       "      <td>0.050000</td>\n",
       "      <td>0.500</td>\n",
       "      <td>1.000000</td>\n",
       "      <td>0.288438</td>\n",
       "      <td>0.002127</td>\n",
       "      <td>0.111111</td>\n",
       "      <td>0.183673</td>\n",
       "      <td>...</td>\n",
       "      <td>0.0</td>\n",
       "      <td>0.0</td>\n",
       "      <td>0.0</td>\n",
       "      <td>0.0</td>\n",
       "      <td>0.0</td>\n",
       "      <td>1.0</td>\n",
       "      <td>0.0</td>\n",
       "      <td>0.0</td>\n",
       "      <td>0.0</td>\n",
       "      <td>0.0</td>\n",
       "    </tr>\n",
       "    <tr>\n",
       "      <th>3</th>\n",
       "      <td>3</td>\n",
       "      <td>0.68</td>\n",
       "      <td>0.000000</td>\n",
       "      <td>0.091667</td>\n",
       "      <td>0.375</td>\n",
       "      <td>1.000000</td>\n",
       "      <td>0.496967</td>\n",
       "      <td>0.003628</td>\n",
       "      <td>0.333333</td>\n",
       "      <td>0.285714</td>\n",
       "      <td>...</td>\n",
       "      <td>0.0</td>\n",
       "      <td>0.0</td>\n",
       "      <td>0.0</td>\n",
       "      <td>0.0</td>\n",
       "      <td>1.0</td>\n",
       "      <td>0.0</td>\n",
       "      <td>0.0</td>\n",
       "      <td>0.0</td>\n",
       "      <td>0.0</td>\n",
       "      <td>0.0</td>\n",
       "    </tr>\n",
       "    <tr>\n",
       "      <th>4</th>\n",
       "      <td>4</td>\n",
       "      <td>0.68</td>\n",
       "      <td>0.000000</td>\n",
       "      <td>0.000000</td>\n",
       "      <td>0.375</td>\n",
       "      <td>1.000000</td>\n",
       "      <td>0.288438</td>\n",
       "      <td>0.002127</td>\n",
       "      <td>0.111111</td>\n",
       "      <td>0.217687</td>\n",
       "      <td>...</td>\n",
       "      <td>0.0</td>\n",
       "      <td>0.0</td>\n",
       "      <td>0.0</td>\n",
       "      <td>0.0</td>\n",
       "      <td>0.0</td>\n",
       "      <td>0.0</td>\n",
       "      <td>0.0</td>\n",
       "      <td>0.0</td>\n",
       "      <td>1.0</td>\n",
       "      <td>0.0</td>\n",
       "    </tr>\n",
       "  </tbody>\n",
       "</table>\n",
       "<p>5 rows × 790 columns</p>\n",
       "</div>"
      ],
      "text/plain": [
       "   Unnamed: 0  YearGroup  MonthGroup  SequenceNum  GearNum   DoorNum  \\\n",
       "0           0       0.72    0.000000     0.000000    0.375  0.666667   \n",
       "1           1       0.12    0.583333     0.341667    0.375  1.000000   \n",
       "2           2       0.88    0.000000     0.050000    0.500  1.000000   \n",
       "3           3       0.68    0.000000     0.091667    0.375  1.000000   \n",
       "4           4       0.68    0.000000     0.000000    0.375  1.000000   \n",
       "\n",
       "   EngineSize  EngineDescription  Cylinders  FuelCapacity  ...  \\\n",
       "0    0.496967           0.003628   0.333333      0.272109  ...   \n",
       "1    0.536141           0.003878   0.333333      0.238095  ...   \n",
       "2    0.288438           0.002127   0.111111      0.183673  ...   \n",
       "3    0.496967           0.003628   0.333333      0.285714  ...   \n",
       "4    0.288438           0.002127   0.111111      0.217687  ...   \n",
       "\n",
       "   Branch_Tamworth (NSW)  Branch_Townsville (QLD)  Branch_Tullamarine (VIC)  \\\n",
       "0                    0.0                      0.0                       0.0   \n",
       "1                    0.0                      0.0                       0.0   \n",
       "2                    0.0                      0.0                       0.0   \n",
       "3                    0.0                      0.0                       0.0   \n",
       "4                    0.0                      0.0                       0.0   \n",
       "\n",
       "   Branch_Welshpool (WA)  SaleCategory_Auction  \\\n",
       "0                    0.0                   1.0   \n",
       "1                    0.0                   1.0   \n",
       "2                    0.0                   0.0   \n",
       "3                    0.0                   1.0   \n",
       "4                    0.0                   0.0   \n",
       "\n",
       "   SaleCategory_Dealer Only Auction  SaleCategory_Fixed Price  \\\n",
       "0                               0.0                       0.0   \n",
       "1                               0.0                       0.0   \n",
       "2                               1.0                       0.0   \n",
       "3                               0.0                       0.0   \n",
       "4                               0.0                       0.0   \n",
       "\n",
       "   SaleCategory_Pickles Online  SaleCategory_Special Fixed Price  \\\n",
       "0                          0.0                               0.0   \n",
       "1                          0.0                               0.0   \n",
       "2                          0.0                               0.0   \n",
       "3                          0.0                               0.0   \n",
       "4                          0.0                               1.0   \n",
       "\n",
       "   SaleCategory_Tender  \n",
       "0                  0.0  \n",
       "1                  0.0  \n",
       "2                  0.0  \n",
       "3                  0.0  \n",
       "4                  0.0  \n",
       "\n",
       "[5 rows x 790 columns]"
      ]
     },
     "execution_count": 7,
     "metadata": {},
     "output_type": "execute_result"
    }
   ],
   "source": [
    "x_train.head()"
   ]
  },
  {
   "cell_type": "markdown",
   "metadata": {},
   "source": [
    "Get benchmark model\n"
   ]
  },
  {
   "cell_type": "code",
   "execution_count": 8,
   "metadata": {},
   "outputs": [],
   "source": [
    "linear_reg = LinearRegression()\n",
    "score_r2 = r2_score\n",
    "score = cross_validate(linear_reg, x_train, y_train, scoring=('r2', 'neg_mean_absolute_error'))\n"
   ]
  },
  {
   "cell_type": "code",
   "execution_count": null,
   "metadata": {},
   "outputs": [
    {
     "data": {
      "text/plain": [
       "{'fit_time': array([2.40661597, 2.39453912, 5.3964529 , 2.24974298, 2.13588309]),\n",
       " 'score_time': array([0.006001  , 0.00788879, 0.0151701 , 0.01510406, 0.01539874]),\n",
       " 'test_r2': array([-1.82863711e+17, -3.11932899e+18, -4.86882249e+16, -1.31438616e+20,\n",
       "        -3.25087925e+18]),\n",
       " 'test_neg_mean_absolute_error': array([  -321345.66294246,  -1414651.08501717,   -118998.44597744,\n",
       "        -10849904.23106647,  -1121785.96472795])}"
      ]
     },
     "metadata": {},
     "output_type": "display_data"
    }
   ],
   "source": [
    "score\n"
   ]
  },
  {
   "cell_type": "markdown",
   "metadata": {},
   "source": [
    "### Train models"
   ]
  },
  {
   "cell_type": "markdown",
   "metadata": {},
   "source": [
    "select model family"
   ]
  },
  {
   "cell_type": "code",
   "execution_count": 14,
   "metadata": {},
   "outputs": [],
   "source": [
    "def train_score_model(estimator_name:str, estimator:BaseEstimator, x_train, y_train):\n",
    "    \"\"\"\n",
    "        Train an input estimator and score\n",
    "    \"\"\"\n",
    "\n",
    "    print(f\"scoring {estimator_name}\")\n",
    "    score = cross_validate(estimator=estimator, X=x_train, y=y_train, scoring=('r2', 'neg_mean_absolute_error'))\n",
    "\n",
    "    return {estimator_name: score}\n"
   ]
  },
  {
   "cell_type": "markdown",
   "metadata": {},
   "source": [
    "create model ID"
   ]
  },
  {
   "cell_type": "code",
   "execution_count": 12,
   "metadata": {},
   "outputs": [],
   "source": [
    "EXPERIMENT_NAME = \"model_training_general\"\n",
    "EXPERIMENT_ID = mlflow.create_experiment(EXPERIMENT_NAME)"
   ]
  },
  {
   "cell_type": "markdown",
   "metadata": {},
   "source": [
    "train and log model metrics"
   ]
  },
  {
   "cell_type": "code",
   "execution_count": 21,
   "metadata": {},
   "outputs": [
    {
     "name": "stdout",
     "output_type": "stream",
     "text": [
      "scoring random_forest\n",
      "scoring gradient_boosted\n",
      "scoring decision_tree\n",
      "scoring mlp\n"
     ]
    }
   ],
   "source": [
    "candidate_estimators = {\"random_forest\":RandomForestRegressor(), \"gradient_boosted\":GradientBoostingRegressor(), \"decision_tree\":DecisionTreeRegressor(), \"mlp\":MLPRegressor()}\n",
    "candidate_scores = {}\n",
    "\n",
    "RUN_NAME = \"Initial_run_3\"\n",
    "\n",
    "\n",
    "for estimator_name, estimator in candidate_estimators.items():\n",
    "    with mlflow.start_run(experiment_id=EXPERIMENT_ID, run_name=RUN_NAME + f\"_{estimator_name}\") as run:\n",
    "        res = train_score_model(estimator_name, estimator, x_train, y_train)\n",
    "        for name, scores in res.items():\n",
    "            for metric, val in scores.items():\n",
    "                mlflow.log_metric(metric, val.mean())\n",
    "        candidate_scores = candidate_scores | res"
   ]
  },
  {
   "cell_type": "code",
   "execution_count": 20,
   "metadata": {},
   "outputs": [
    {
     "name": "stdout",
     "output_type": "stream",
     "text": [
      "scoring linear_reg\n"
     ]
    }
   ],
   "source": [
    "with mlflow.start_run(experiment_id=EXPERIMENT_ID, run_name=\"test_run_2\") as run:\n",
    "        res = train_score_model(\"linear_reg\", LinearRegression(), x_train, y_train)\n",
    "        for name, scores in res.items():\n",
    "            for metric, val in scores.items():\n",
    "                mlflow.log_metric(metric, val.mean())"
   ]
  },
  {
   "cell_type": "markdown",
   "metadata": {},
   "source": [
    "mlflow ui --backend-store-uri file:///Users/rusernyeoh/projects/datium_data_science_test/DDST/experiments"
   ]
  },
  {
   "cell_type": "markdown",
   "metadata": {},
   "source": [
    "Choose random forest based on metrics"
   ]
  },
  {
   "cell_type": "markdown",
   "metadata": {},
   "source": [
    "Skipping hyperparameter tuning here"
   ]
  },
  {
   "cell_type": "markdown",
   "metadata": {},
   "source": [
    "Train RandomForest"
   ]
  },
  {
   "cell_type": "code",
   "execution_count": 23,
   "metadata": {},
   "outputs": [
    {
     "data": {
      "text/html": [
       "<style>#sk-container-id-1 {color: black;background-color: white;}#sk-container-id-1 pre{padding: 0;}#sk-container-id-1 div.sk-toggleable {background-color: white;}#sk-container-id-1 label.sk-toggleable__label {cursor: pointer;display: block;width: 100%;margin-bottom: 0;padding: 0.3em;box-sizing: border-box;text-align: center;}#sk-container-id-1 label.sk-toggleable__label-arrow:before {content: \"▸\";float: left;margin-right: 0.25em;color: #696969;}#sk-container-id-1 label.sk-toggleable__label-arrow:hover:before {color: black;}#sk-container-id-1 div.sk-estimator:hover label.sk-toggleable__label-arrow:before {color: black;}#sk-container-id-1 div.sk-toggleable__content {max-height: 0;max-width: 0;overflow: hidden;text-align: left;background-color: #f0f8ff;}#sk-container-id-1 div.sk-toggleable__content pre {margin: 0.2em;color: black;border-radius: 0.25em;background-color: #f0f8ff;}#sk-container-id-1 input.sk-toggleable__control:checked~div.sk-toggleable__content {max-height: 200px;max-width: 100%;overflow: auto;}#sk-container-id-1 input.sk-toggleable__control:checked~label.sk-toggleable__label-arrow:before {content: \"▾\";}#sk-container-id-1 div.sk-estimator input.sk-toggleable__control:checked~label.sk-toggleable__label {background-color: #d4ebff;}#sk-container-id-1 div.sk-label input.sk-toggleable__control:checked~label.sk-toggleable__label {background-color: #d4ebff;}#sk-container-id-1 input.sk-hidden--visually {border: 0;clip: rect(1px 1px 1px 1px);clip: rect(1px, 1px, 1px, 1px);height: 1px;margin: -1px;overflow: hidden;padding: 0;position: absolute;width: 1px;}#sk-container-id-1 div.sk-estimator {font-family: monospace;background-color: #f0f8ff;border: 1px dotted black;border-radius: 0.25em;box-sizing: border-box;margin-bottom: 0.5em;}#sk-container-id-1 div.sk-estimator:hover {background-color: #d4ebff;}#sk-container-id-1 div.sk-parallel-item::after {content: \"\";width: 100%;border-bottom: 1px solid gray;flex-grow: 1;}#sk-container-id-1 div.sk-label:hover label.sk-toggleable__label {background-color: #d4ebff;}#sk-container-id-1 div.sk-serial::before {content: \"\";position: absolute;border-left: 1px solid gray;box-sizing: border-box;top: 0;bottom: 0;left: 50%;z-index: 0;}#sk-container-id-1 div.sk-serial {display: flex;flex-direction: column;align-items: center;background-color: white;padding-right: 0.2em;padding-left: 0.2em;position: relative;}#sk-container-id-1 div.sk-item {position: relative;z-index: 1;}#sk-container-id-1 div.sk-parallel {display: flex;align-items: stretch;justify-content: center;background-color: white;position: relative;}#sk-container-id-1 div.sk-item::before, #sk-container-id-1 div.sk-parallel-item::before {content: \"\";position: absolute;border-left: 1px solid gray;box-sizing: border-box;top: 0;bottom: 0;left: 50%;z-index: -1;}#sk-container-id-1 div.sk-parallel-item {display: flex;flex-direction: column;z-index: 1;position: relative;background-color: white;}#sk-container-id-1 div.sk-parallel-item:first-child::after {align-self: flex-end;width: 50%;}#sk-container-id-1 div.sk-parallel-item:last-child::after {align-self: flex-start;width: 50%;}#sk-container-id-1 div.sk-parallel-item:only-child::after {width: 0;}#sk-container-id-1 div.sk-dashed-wrapped {border: 1px dashed gray;margin: 0 0.4em 0.5em 0.4em;box-sizing: border-box;padding-bottom: 0.4em;background-color: white;}#sk-container-id-1 div.sk-label label {font-family: monospace;font-weight: bold;display: inline-block;line-height: 1.2em;}#sk-container-id-1 div.sk-label-container {text-align: center;}#sk-container-id-1 div.sk-container {/* jupyter's `normalize.less` sets `[hidden] { display: none; }` but bootstrap.min.css set `[hidden] { display: none !important; }` so we also need the `!important` here to be able to override the default hidden behavior on the sphinx rendered scikit-learn.org. See: https://github.com/scikit-learn/scikit-learn/issues/21755 */display: inline-block !important;position: relative;}#sk-container-id-1 div.sk-text-repr-fallback {display: none;}</style><div id=\"sk-container-id-1\" class=\"sk-top-container\"><div class=\"sk-text-repr-fallback\"><pre>RandomForestRegressor()</pre><b>In a Jupyter environment, please rerun this cell to show the HTML representation or trust the notebook. <br />On GitHub, the HTML representation is unable to render, please try loading this page with nbviewer.org.</b></div><div class=\"sk-container\" hidden><div class=\"sk-item\"><div class=\"sk-estimator sk-toggleable\"><input class=\"sk-toggleable__control sk-hidden--visually\" id=\"sk-estimator-id-1\" type=\"checkbox\" checked><label for=\"sk-estimator-id-1\" class=\"sk-toggleable__label sk-toggleable__label-arrow\">RandomForestRegressor</label><div class=\"sk-toggleable__content\"><pre>RandomForestRegressor()</pre></div></div></div></div></div>"
      ],
      "text/plain": [
       "RandomForestRegressor()"
      ]
     },
     "execution_count": 23,
     "metadata": {},
     "output_type": "execute_result"
    }
   ],
   "source": [
    "RUN_NAME = \"selected_model\"\n",
    "with mlflow.start_run(experiment_id=EXPERIMENT_ID, run_name=RUN_NAME + f\"random_forest\") as run:\n",
    "    mlflow.sklearn.autolog()\n",
    "    rf = RandomForestRegressor()\n",
    "    rf.fit(x_train, y_train)\n"
   ]
  },
  {
   "cell_type": "code",
   "execution_count": 26,
   "metadata": {},
   "outputs": [
    {
     "data": {
      "text/plain": [
       "['../assets/model.save']"
      ]
     },
     "execution_count": 26,
     "metadata": {},
     "output_type": "execute_result"
    }
   ],
   "source": [
    "model_save_path = r\"../assets/model.save\"\n",
    "joblib.dump(rf, model_save_path)"
   ]
  },
  {
   "cell_type": "code",
   "execution_count": null,
   "metadata": {},
   "outputs": [],
   "source": []
  }
 ],
 "metadata": {
  "kernelspec": {
   "display_name": "Python 3.9.15 ('datium_test_py3.9')",
   "language": "python",
   "name": "python3"
  },
  "language_info": {
   "codemirror_mode": {
    "name": "ipython",
    "version": 3
   },
   "file_extension": ".py",
   "mimetype": "text/x-python",
   "name": "python",
   "nbconvert_exporter": "python",
   "pygments_lexer": "ipython3",
   "version": "3.9.15"
  },
  "orig_nbformat": 4,
  "vscode": {
   "interpreter": {
    "hash": "842d39daf15613f8695f87e3e9ecc9e966f963305a56be9371c83efbaeeb1f65"
   }
  }
 },
 "nbformat": 4,
 "nbformat_minor": 2
}
