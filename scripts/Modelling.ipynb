{
 "cells": [
  {
   "cell_type": "code",
   "execution_count": 34,
   "metadata": {},
   "outputs": [
    {
     "name": "stdout",
     "output_type": "stream",
     "text": [
      "file:///Users/rusernyeoh/projects/datium_data_science_test/DDST/experiments\n"
     ]
    }
   ],
   "source": [
    "import pandas as pd\n",
    "import sklearn\n",
    "from sklearn.preprocessing import OneHotEncoder, StandardScaler, MinMaxScaler\n",
    "from sklearn.model_selection import GridSearchCV, train_test_split, cross_validate\n",
    "from sklearn.metrics import r2_score, max_error, mean_absolute_error\n",
    "from sklearn.ensemble import RandomForestRegressor, GradientBoostingRegressor\n",
    "from sklearn.tree import DecisionTreeRegressor\n",
    "from sklearn.neural_network import MLPRegressor\n",
    "from sklearn.linear_model import LinearRegression\n",
    "from sklearn.model_selection import cross_val_score, GridSearchCV\n",
    "from sklearn.base import BaseEstimator\n",
    "\n",
    "import mlflow\n",
    "\n",
    "import os\n",
    "import pathlib\n",
    "import joblib\n",
    "\n",
    "current_path = os.getcwd()\n",
    "abs_current_path = os.path.abspath(current_path)\n",
    "abs_one_level_up = os.path.split(abs_current_path)[0]\n",
    "abs_experiments_path = os.path.join(abs_one_level_up, \"experiments\")\n",
    "experiments_folder_uri = pathlib.Path(abs_experiments_path).as_uri()\n",
    "\n",
    "print(experiments_folder_uri)\n",
    "\n",
    "mlflow.set_tracking_uri(experiments_folder_uri)\n",
    "\n",
    "\n"
   ]
  },
  {
   "cell_type": "markdown",
   "metadata": {},
   "source": [
    "### Load cleaned dataset"
   ]
  },
  {
   "cell_type": "code",
   "execution_count": 29,
   "metadata": {},
   "outputs": [],
   "source": [
    "cleaned_dataset_save_path = r\"../datasets/cleaned_train.csv\"\n",
    "\n",
    "train_dataset = pd.read_csv(cleaned_dataset_save_path)"
   ]
  },
  {
   "cell_type": "code",
   "execution_count": 30,
   "metadata": {},
   "outputs": [
    {
     "data": {
      "text/html": [
       "<div>\n",
       "<style scoped>\n",
       "    .dataframe tbody tr th:only-of-type {\n",
       "        vertical-align: middle;\n",
       "    }\n",
       "\n",
       "    .dataframe tbody tr th {\n",
       "        vertical-align: top;\n",
       "    }\n",
       "\n",
       "    .dataframe thead th {\n",
       "        text-align: right;\n",
       "    }\n",
       "</style>\n",
       "<table border=\"1\" class=\"dataframe\">\n",
       "  <thead>\n",
       "    <tr style=\"text-align: right;\">\n",
       "      <th></th>\n",
       "      <th>YearGroup</th>\n",
       "      <th>MonthGroup</th>\n",
       "      <th>SequenceNum</th>\n",
       "      <th>GearNum</th>\n",
       "      <th>DoorNum</th>\n",
       "      <th>EngineSize</th>\n",
       "      <th>EngineDescription</th>\n",
       "      <th>Cylinders</th>\n",
       "      <th>FuelCapacity</th>\n",
       "      <th>WheelBase</th>\n",
       "      <th>...</th>\n",
       "      <th>Branch_Tamworth (NSW)</th>\n",
       "      <th>Branch_Townsville (QLD)</th>\n",
       "      <th>Branch_Tullamarine (VIC)</th>\n",
       "      <th>Branch_Welshpool (WA)</th>\n",
       "      <th>SaleCategory_Auction</th>\n",
       "      <th>SaleCategory_Dealer Only Auction</th>\n",
       "      <th>SaleCategory_Fixed Price</th>\n",
       "      <th>SaleCategory_Pickles Online</th>\n",
       "      <th>SaleCategory_Special Fixed Price</th>\n",
       "      <th>SaleCategory_Tender</th>\n",
       "    </tr>\n",
       "  </thead>\n",
       "  <tbody>\n",
       "    <tr>\n",
       "      <th>0</th>\n",
       "      <td>0.72</td>\n",
       "      <td>0.000000</td>\n",
       "      <td>0.000000</td>\n",
       "      <td>0.375</td>\n",
       "      <td>0.666667</td>\n",
       "      <td>0.496967</td>\n",
       "      <td>0.003628</td>\n",
       "      <td>0.333333</td>\n",
       "      <td>0.272109</td>\n",
       "      <td>0.519591</td>\n",
       "      <td>...</td>\n",
       "      <td>0.0</td>\n",
       "      <td>0.0</td>\n",
       "      <td>0.0</td>\n",
       "      <td>0.0</td>\n",
       "      <td>1.0</td>\n",
       "      <td>0.0</td>\n",
       "      <td>0.0</td>\n",
       "      <td>0.0</td>\n",
       "      <td>0.0</td>\n",
       "      <td>0.0</td>\n",
       "    </tr>\n",
       "    <tr>\n",
       "      <th>1</th>\n",
       "      <td>0.12</td>\n",
       "      <td>0.583333</td>\n",
       "      <td>0.341667</td>\n",
       "      <td>0.375</td>\n",
       "      <td>1.000000</td>\n",
       "      <td>0.536141</td>\n",
       "      <td>0.003878</td>\n",
       "      <td>0.333333</td>\n",
       "      <td>0.238095</td>\n",
       "      <td>0.487905</td>\n",
       "      <td>...</td>\n",
       "      <td>0.0</td>\n",
       "      <td>0.0</td>\n",
       "      <td>0.0</td>\n",
       "      <td>0.0</td>\n",
       "      <td>1.0</td>\n",
       "      <td>0.0</td>\n",
       "      <td>0.0</td>\n",
       "      <td>0.0</td>\n",
       "      <td>0.0</td>\n",
       "      <td>0.0</td>\n",
       "    </tr>\n",
       "    <tr>\n",
       "      <th>2</th>\n",
       "      <td>0.88</td>\n",
       "      <td>0.000000</td>\n",
       "      <td>0.050000</td>\n",
       "      <td>0.500</td>\n",
       "      <td>1.000000</td>\n",
       "      <td>0.288438</td>\n",
       "      <td>0.002127</td>\n",
       "      <td>0.111111</td>\n",
       "      <td>0.183673</td>\n",
       "      <td>0.432709</td>\n",
       "      <td>...</td>\n",
       "      <td>0.0</td>\n",
       "      <td>0.0</td>\n",
       "      <td>0.0</td>\n",
       "      <td>0.0</td>\n",
       "      <td>0.0</td>\n",
       "      <td>1.0</td>\n",
       "      <td>0.0</td>\n",
       "      <td>0.0</td>\n",
       "      <td>0.0</td>\n",
       "      <td>0.0</td>\n",
       "    </tr>\n",
       "    <tr>\n",
       "      <th>3</th>\n",
       "      <td>0.68</td>\n",
       "      <td>0.000000</td>\n",
       "      <td>0.091667</td>\n",
       "      <td>0.375</td>\n",
       "      <td>1.000000</td>\n",
       "      <td>0.496967</td>\n",
       "      <td>0.003628</td>\n",
       "      <td>0.333333</td>\n",
       "      <td>0.285714</td>\n",
       "      <td>0.527428</td>\n",
       "      <td>...</td>\n",
       "      <td>0.0</td>\n",
       "      <td>0.0</td>\n",
       "      <td>0.0</td>\n",
       "      <td>0.0</td>\n",
       "      <td>1.0</td>\n",
       "      <td>0.0</td>\n",
       "      <td>0.0</td>\n",
       "      <td>0.0</td>\n",
       "      <td>0.0</td>\n",
       "      <td>0.0</td>\n",
       "    </tr>\n",
       "    <tr>\n",
       "      <th>4</th>\n",
       "      <td>0.68</td>\n",
       "      <td>0.000000</td>\n",
       "      <td>0.000000</td>\n",
       "      <td>0.375</td>\n",
       "      <td>1.000000</td>\n",
       "      <td>0.288438</td>\n",
       "      <td>0.002127</td>\n",
       "      <td>0.111111</td>\n",
       "      <td>0.217687</td>\n",
       "      <td>0.531516</td>\n",
       "      <td>...</td>\n",
       "      <td>0.0</td>\n",
       "      <td>0.0</td>\n",
       "      <td>0.0</td>\n",
       "      <td>0.0</td>\n",
       "      <td>0.0</td>\n",
       "      <td>0.0</td>\n",
       "      <td>0.0</td>\n",
       "      <td>0.0</td>\n",
       "      <td>1.0</td>\n",
       "      <td>0.0</td>\n",
       "    </tr>\n",
       "  </tbody>\n",
       "</table>\n",
       "<p>5 rows × 790 columns</p>\n",
       "</div>"
      ],
      "text/plain": [
       "   YearGroup  MonthGroup  SequenceNum  GearNum   DoorNum  EngineSize  \\\n",
       "0       0.72    0.000000     0.000000    0.375  0.666667    0.496967   \n",
       "1       0.12    0.583333     0.341667    0.375  1.000000    0.536141   \n",
       "2       0.88    0.000000     0.050000    0.500  1.000000    0.288438   \n",
       "3       0.68    0.000000     0.091667    0.375  1.000000    0.496967   \n",
       "4       0.68    0.000000     0.000000    0.375  1.000000    0.288438   \n",
       "\n",
       "   EngineDescription  Cylinders  FuelCapacity  WheelBase  ...  \\\n",
       "0           0.003628   0.333333      0.272109   0.519591  ...   \n",
       "1           0.003878   0.333333      0.238095   0.487905  ...   \n",
       "2           0.002127   0.111111      0.183673   0.432709  ...   \n",
       "3           0.003628   0.333333      0.285714   0.527428  ...   \n",
       "4           0.002127   0.111111      0.217687   0.531516  ...   \n",
       "\n",
       "   Branch_Tamworth (NSW)  Branch_Townsville (QLD)  Branch_Tullamarine (VIC)  \\\n",
       "0                    0.0                      0.0                       0.0   \n",
       "1                    0.0                      0.0                       0.0   \n",
       "2                    0.0                      0.0                       0.0   \n",
       "3                    0.0                      0.0                       0.0   \n",
       "4                    0.0                      0.0                       0.0   \n",
       "\n",
       "   Branch_Welshpool (WA)  SaleCategory_Auction  \\\n",
       "0                    0.0                   1.0   \n",
       "1                    0.0                   1.0   \n",
       "2                    0.0                   0.0   \n",
       "3                    0.0                   1.0   \n",
       "4                    0.0                   0.0   \n",
       "\n",
       "   SaleCategory_Dealer Only Auction  SaleCategory_Fixed Price  \\\n",
       "0                               0.0                       0.0   \n",
       "1                               0.0                       0.0   \n",
       "2                               1.0                       0.0   \n",
       "3                               0.0                       0.0   \n",
       "4                               0.0                       0.0   \n",
       "\n",
       "   SaleCategory_Pickles Online  SaleCategory_Special Fixed Price  \\\n",
       "0                          0.0                               0.0   \n",
       "1                          0.0                               0.0   \n",
       "2                          0.0                               0.0   \n",
       "3                          0.0                               0.0   \n",
       "4                          0.0                               1.0   \n",
       "\n",
       "   SaleCategory_Tender  \n",
       "0                  0.0  \n",
       "1                  0.0  \n",
       "2                  0.0  \n",
       "3                  0.0  \n",
       "4                  0.0  \n",
       "\n",
       "[5 rows x 790 columns]"
      ]
     },
     "execution_count": 30,
     "metadata": {},
     "output_type": "execute_result"
    }
   ],
   "source": [
    "train_dataset.head()"
   ]
  },
  {
   "cell_type": "markdown",
   "metadata": {},
   "source": [
    "### Start model training"
   ]
  },
  {
   "cell_type": "markdown",
   "metadata": {},
   "source": [
    "Split features and targets"
   ]
  },
  {
   "cell_type": "code",
   "execution_count": 31,
   "metadata": {},
   "outputs": [],
   "source": [
    "y_train = train_dataset['Sold_Amount']\n",
    "x_train = train_dataset.drop('Sold_Amount', axis=1)"
   ]
  },
  {
   "cell_type": "code",
   "execution_count": 6,
   "metadata": {},
   "outputs": [
    {
     "name": "stdout",
     "output_type": "stream",
     "text": [
      "(46855,)\n",
      "(46855, 790)\n"
     ]
    }
   ],
   "source": [
    "#verify dataset shape\n",
    "print(y_train.shape)\n",
    "print(x_train.shape)"
   ]
  },
  {
   "cell_type": "code",
   "execution_count": 7,
   "metadata": {},
   "outputs": [
    {
     "data": {
      "text/html": [
       "<div>\n",
       "<style scoped>\n",
       "    .dataframe tbody tr th:only-of-type {\n",
       "        vertical-align: middle;\n",
       "    }\n",
       "\n",
       "    .dataframe tbody tr th {\n",
       "        vertical-align: top;\n",
       "    }\n",
       "\n",
       "    .dataframe thead th {\n",
       "        text-align: right;\n",
       "    }\n",
       "</style>\n",
       "<table border=\"1\" class=\"dataframe\">\n",
       "  <thead>\n",
       "    <tr style=\"text-align: right;\">\n",
       "      <th></th>\n",
       "      <th>Unnamed: 0</th>\n",
       "      <th>YearGroup</th>\n",
       "      <th>MonthGroup</th>\n",
       "      <th>SequenceNum</th>\n",
       "      <th>GearNum</th>\n",
       "      <th>DoorNum</th>\n",
       "      <th>EngineSize</th>\n",
       "      <th>EngineDescription</th>\n",
       "      <th>Cylinders</th>\n",
       "      <th>FuelCapacity</th>\n",
       "      <th>...</th>\n",
       "      <th>Branch_Tamworth (NSW)</th>\n",
       "      <th>Branch_Townsville (QLD)</th>\n",
       "      <th>Branch_Tullamarine (VIC)</th>\n",
       "      <th>Branch_Welshpool (WA)</th>\n",
       "      <th>SaleCategory_Auction</th>\n",
       "      <th>SaleCategory_Dealer Only Auction</th>\n",
       "      <th>SaleCategory_Fixed Price</th>\n",
       "      <th>SaleCategory_Pickles Online</th>\n",
       "      <th>SaleCategory_Special Fixed Price</th>\n",
       "      <th>SaleCategory_Tender</th>\n",
       "    </tr>\n",
       "  </thead>\n",
       "  <tbody>\n",
       "    <tr>\n",
       "      <th>0</th>\n",
       "      <td>0</td>\n",
       "      <td>0.72</td>\n",
       "      <td>0.000000</td>\n",
       "      <td>0.000000</td>\n",
       "      <td>0.375</td>\n",
       "      <td>0.666667</td>\n",
       "      <td>0.496967</td>\n",
       "      <td>0.003628</td>\n",
       "      <td>0.333333</td>\n",
       "      <td>0.272109</td>\n",
       "      <td>...</td>\n",
       "      <td>0.0</td>\n",
       "      <td>0.0</td>\n",
       "      <td>0.0</td>\n",
       "      <td>0.0</td>\n",
       "      <td>1.0</td>\n",
       "      <td>0.0</td>\n",
       "      <td>0.0</td>\n",
       "      <td>0.0</td>\n",
       "      <td>0.0</td>\n",
       "      <td>0.0</td>\n",
       "    </tr>\n",
       "    <tr>\n",
       "      <th>1</th>\n",
       "      <td>1</td>\n",
       "      <td>0.12</td>\n",
       "      <td>0.583333</td>\n",
       "      <td>0.341667</td>\n",
       "      <td>0.375</td>\n",
       "      <td>1.000000</td>\n",
       "      <td>0.536141</td>\n",
       "      <td>0.003878</td>\n",
       "      <td>0.333333</td>\n",
       "      <td>0.238095</td>\n",
       "      <td>...</td>\n",
       "      <td>0.0</td>\n",
       "      <td>0.0</td>\n",
       "      <td>0.0</td>\n",
       "      <td>0.0</td>\n",
       "      <td>1.0</td>\n",
       "      <td>0.0</td>\n",
       "      <td>0.0</td>\n",
       "      <td>0.0</td>\n",
       "      <td>0.0</td>\n",
       "      <td>0.0</td>\n",
       "    </tr>\n",
       "    <tr>\n",
       "      <th>2</th>\n",
       "      <td>2</td>\n",
       "      <td>0.88</td>\n",
       "      <td>0.000000</td>\n",
       "      <td>0.050000</td>\n",
       "      <td>0.500</td>\n",
       "      <td>1.000000</td>\n",
       "      <td>0.288438</td>\n",
       "      <td>0.002127</td>\n",
       "      <td>0.111111</td>\n",
       "      <td>0.183673</td>\n",
       "      <td>...</td>\n",
       "      <td>0.0</td>\n",
       "      <td>0.0</td>\n",
       "      <td>0.0</td>\n",
       "      <td>0.0</td>\n",
       "      <td>0.0</td>\n",
       "      <td>1.0</td>\n",
       "      <td>0.0</td>\n",
       "      <td>0.0</td>\n",
       "      <td>0.0</td>\n",
       "      <td>0.0</td>\n",
       "    </tr>\n",
       "    <tr>\n",
       "      <th>3</th>\n",
       "      <td>3</td>\n",
       "      <td>0.68</td>\n",
       "      <td>0.000000</td>\n",
       "      <td>0.091667</td>\n",
       "      <td>0.375</td>\n",
       "      <td>1.000000</td>\n",
       "      <td>0.496967</td>\n",
       "      <td>0.003628</td>\n",
       "      <td>0.333333</td>\n",
       "      <td>0.285714</td>\n",
       "      <td>...</td>\n",
       "      <td>0.0</td>\n",
       "      <td>0.0</td>\n",
       "      <td>0.0</td>\n",
       "      <td>0.0</td>\n",
       "      <td>1.0</td>\n",
       "      <td>0.0</td>\n",
       "      <td>0.0</td>\n",
       "      <td>0.0</td>\n",
       "      <td>0.0</td>\n",
       "      <td>0.0</td>\n",
       "    </tr>\n",
       "    <tr>\n",
       "      <th>4</th>\n",
       "      <td>4</td>\n",
       "      <td>0.68</td>\n",
       "      <td>0.000000</td>\n",
       "      <td>0.000000</td>\n",
       "      <td>0.375</td>\n",
       "      <td>1.000000</td>\n",
       "      <td>0.288438</td>\n",
       "      <td>0.002127</td>\n",
       "      <td>0.111111</td>\n",
       "      <td>0.217687</td>\n",
       "      <td>...</td>\n",
       "      <td>0.0</td>\n",
       "      <td>0.0</td>\n",
       "      <td>0.0</td>\n",
       "      <td>0.0</td>\n",
       "      <td>0.0</td>\n",
       "      <td>0.0</td>\n",
       "      <td>0.0</td>\n",
       "      <td>0.0</td>\n",
       "      <td>1.0</td>\n",
       "      <td>0.0</td>\n",
       "    </tr>\n",
       "  </tbody>\n",
       "</table>\n",
       "<p>5 rows × 790 columns</p>\n",
       "</div>"
      ],
      "text/plain": [
       "   Unnamed: 0  YearGroup  MonthGroup  SequenceNum  GearNum   DoorNum  \\\n",
       "0           0       0.72    0.000000     0.000000    0.375  0.666667   \n",
       "1           1       0.12    0.583333     0.341667    0.375  1.000000   \n",
       "2           2       0.88    0.000000     0.050000    0.500  1.000000   \n",
       "3           3       0.68    0.000000     0.091667    0.375  1.000000   \n",
       "4           4       0.68    0.000000     0.000000    0.375  1.000000   \n",
       "\n",
       "   EngineSize  EngineDescription  Cylinders  FuelCapacity  ...  \\\n",
       "0    0.496967           0.003628   0.333333      0.272109  ...   \n",
       "1    0.536141           0.003878   0.333333      0.238095  ...   \n",
       "2    0.288438           0.002127   0.111111      0.183673  ...   \n",
       "3    0.496967           0.003628   0.333333      0.285714  ...   \n",
       "4    0.288438           0.002127   0.111111      0.217687  ...   \n",
       "\n",
       "   Branch_Tamworth (NSW)  Branch_Townsville (QLD)  Branch_Tullamarine (VIC)  \\\n",
       "0                    0.0                      0.0                       0.0   \n",
       "1                    0.0                      0.0                       0.0   \n",
       "2                    0.0                      0.0                       0.0   \n",
       "3                    0.0                      0.0                       0.0   \n",
       "4                    0.0                      0.0                       0.0   \n",
       "\n",
       "   Branch_Welshpool (WA)  SaleCategory_Auction  \\\n",
       "0                    0.0                   1.0   \n",
       "1                    0.0                   1.0   \n",
       "2                    0.0                   0.0   \n",
       "3                    0.0                   1.0   \n",
       "4                    0.0                   0.0   \n",
       "\n",
       "   SaleCategory_Dealer Only Auction  SaleCategory_Fixed Price  \\\n",
       "0                               0.0                       0.0   \n",
       "1                               0.0                       0.0   \n",
       "2                               1.0                       0.0   \n",
       "3                               0.0                       0.0   \n",
       "4                               0.0                       0.0   \n",
       "\n",
       "   SaleCategory_Pickles Online  SaleCategory_Special Fixed Price  \\\n",
       "0                          0.0                               0.0   \n",
       "1                          0.0                               0.0   \n",
       "2                          0.0                               0.0   \n",
       "3                          0.0                               0.0   \n",
       "4                          0.0                               1.0   \n",
       "\n",
       "   SaleCategory_Tender  \n",
       "0                  0.0  \n",
       "1                  0.0  \n",
       "2                  0.0  \n",
       "3                  0.0  \n",
       "4                  0.0  \n",
       "\n",
       "[5 rows x 790 columns]"
      ]
     },
     "execution_count": 7,
     "metadata": {},
     "output_type": "execute_result"
    }
   ],
   "source": [
    "x_train.head()"
   ]
  },
  {
   "cell_type": "markdown",
   "metadata": {},
   "source": [
    "Get benchmark model\n"
   ]
  },
  {
   "cell_type": "code",
   "execution_count": 8,
   "metadata": {},
   "outputs": [],
   "source": [
    "linear_reg = LinearRegression()\n",
    "score_r2 = r2_score\n",
    "score = cross_validate(linear_reg, x_train, y_train, scoring=('r2', 'neg_mean_absolute_error'))\n"
   ]
  },
  {
   "cell_type": "code",
   "execution_count": null,
   "metadata": {},
   "outputs": [
    {
     "data": {
      "text/plain": [
       "{'fit_time': array([2.40661597, 2.39453912, 5.3964529 , 2.24974298, 2.13588309]),\n",
       " 'score_time': array([0.006001  , 0.00788879, 0.0151701 , 0.01510406, 0.01539874]),\n",
       " 'test_r2': array([-1.82863711e+17, -3.11932899e+18, -4.86882249e+16, -1.31438616e+20,\n",
       "        -3.25087925e+18]),\n",
       " 'test_neg_mean_absolute_error': array([  -321345.66294246,  -1414651.08501717,   -118998.44597744,\n",
       "        -10849904.23106647,  -1121785.96472795])}"
      ]
     },
     "metadata": {},
     "output_type": "display_data"
    }
   ],
   "source": [
    "score\n"
   ]
  },
  {
   "cell_type": "markdown",
   "metadata": {},
   "source": [
    "### Train models"
   ]
  },
  {
   "cell_type": "markdown",
   "metadata": {},
   "source": [
    "select model family"
   ]
  },
  {
   "cell_type": "code",
   "execution_count": 32,
   "metadata": {},
   "outputs": [],
   "source": [
    "def train_score_model(estimator_name:str, estimator:BaseEstimator, x_train, y_train):\n",
    "    \"\"\"\n",
    "        Train an input estimator and score\n",
    "    \"\"\"\n",
    "\n",
    "    print(f\"scoring {estimator_name}\")\n",
    "    score = cross_validate(estimator=estimator, X=x_train, y=y_train, scoring=('r2', 'neg_mean_absolute_error'))\n",
    "\n",
    "    return {estimator_name: score}\n"
   ]
  },
  {
   "cell_type": "markdown",
   "metadata": {},
   "source": [
    "create model ID"
   ]
  },
  {
   "cell_type": "code",
   "execution_count": null,
   "metadata": {},
   "outputs": [],
   "source": [
    "EXPERIMENT_NAME = \"model_training_general\"\n",
    "EXPERIMENT_ID = mlflow.create_experiment(EXPERIMENT_NAME)"
   ]
  },
  {
   "cell_type": "markdown",
   "metadata": {},
   "source": [
    "train and log model metrics"
   ]
  },
  {
   "cell_type": "code",
   "execution_count": 21,
   "metadata": {},
   "outputs": [
    {
     "name": "stdout",
     "output_type": "stream",
     "text": [
      "scoring random_forest\n",
      "scoring gradient_boosted\n",
      "scoring decision_tree\n",
      "scoring mlp\n"
     ]
    }
   ],
   "source": [
    "candidate_estimators = {\"random_forest\":RandomForestRegressor(), \"gradient_boosted\":GradientBoostingRegressor(), \"decision_tree\":DecisionTreeRegressor(), \"mlp\":MLPRegressor()}\n",
    "candidate_scores = {}\n",
    "\n",
    "RUN_NAME = \"Initial_run_3\"\n",
    "\n",
    "\n",
    "for estimator_name, estimator in candidate_estimators.items():\n",
    "    with mlflow.start_run(experiment_id=EXPERIMENT_ID, run_name=RUN_NAME + f\"_{estimator_name}\") as run:\n",
    "        res = train_score_model(estimator_name, estimator, x_train, y_train)\n",
    "        for name, scores in res.items():\n",
    "            for metric, val in scores.items():\n",
    "                mlflow.log_metric(metric, val.mean())\n",
    "        candidate_scores = candidate_scores | res"
   ]
  },
  {
   "cell_type": "code",
   "execution_count": 20,
   "metadata": {},
   "outputs": [
    {
     "name": "stdout",
     "output_type": "stream",
     "text": [
      "scoring linear_reg\n"
     ]
    }
   ],
   "source": [
    "with mlflow.start_run(experiment_id=EXPERIMENT_ID, run_name=\"test_run_2\") as run:\n",
    "        res = train_score_model(\"linear_reg\", LinearRegression(), x_train, y_train)\n",
    "        for name, scores in res.items():\n",
    "            for metric, val in scores.items():\n",
    "                mlflow.log_metric(metric, val.mean())"
   ]
  },
  {
   "cell_type": "markdown",
   "metadata": {},
   "source": [
    "mlflow ui --backend-store-uri file:///Users/rusernyeoh/projects/datium_data_science_test/DDST/experiments"
   ]
  },
  {
   "cell_type": "markdown",
   "metadata": {},
   "source": [
    "Choose random forest based on metrics"
   ]
  },
  {
   "cell_type": "markdown",
   "metadata": {},
   "source": [
    "Skipping hyperparameter tuning here"
   ]
  },
  {
   "cell_type": "markdown",
   "metadata": {},
   "source": [
    "Train RandomForest"
   ]
  },
  {
   "cell_type": "markdown",
   "metadata": {},
   "source": [
    "create model ID"
   ]
  },
  {
   "cell_type": "code",
   "execution_count": 38,
   "metadata": {},
   "outputs": [
    {
     "name": "stderr",
     "output_type": "stream",
     "text": [
      "WARNING:root:Malformed experiment 'mlruns'. Detailed error Yaml file '/Users/rusernyeoh/projects/datium_data_science_test/DDST/experiments/mlruns/meta.yaml' does not exist.\n",
      "Traceback (most recent call last):\n",
      "  File \"/opt/homebrew/Caskroom/miniforge/base/envs/datium_test_py3.9/lib/python3.9/site-packages/mlflow/store/tracking/file_store.py\", line 285, in search_experiments\n",
      "    exp = self._get_experiment(exp_id, view_type)\n",
      "  File \"/opt/homebrew/Caskroom/miniforge/base/envs/datium_test_py3.9/lib/python3.9/site-packages/mlflow/store/tracking/file_store.py\", line 378, in _get_experiment\n",
      "    meta = FileStore._read_yaml(experiment_dir, FileStore.META_DATA_FILE_NAME)\n",
      "  File \"/opt/homebrew/Caskroom/miniforge/base/envs/datium_test_py3.9/lib/python3.9/site-packages/mlflow/store/tracking/file_store.py\", line 1082, in _read_yaml\n",
      "    return _read_helper(root, file_name, attempts_remaining=retries)\n",
      "  File \"/opt/homebrew/Caskroom/miniforge/base/envs/datium_test_py3.9/lib/python3.9/site-packages/mlflow/store/tracking/file_store.py\", line 1075, in _read_helper\n",
      "    result = read_yaml(root, file_name)\n",
      "  File \"/opt/homebrew/Caskroom/miniforge/base/envs/datium_test_py3.9/lib/python3.9/site-packages/mlflow/utils/file_utils.py\", line 213, in read_yaml\n",
      "    raise MissingConfigException(\"Yaml file '%s' does not exist.\" % file_path)\n",
      "mlflow.exceptions.MissingConfigException: Yaml file '/Users/rusernyeoh/projects/datium_data_science_test/DDST/experiments/mlruns/meta.yaml' does not exist.\n"
     ]
    }
   ],
   "source": [
    "EXPERIMENT_NAME = \"model_training_hyperparameter\"\n",
    "current_experiment=dict(mlflow.get_experiment_by_name(EXPERIMENT_NAME))\n",
    "EXPERIMENT_ID=current_experiment['experiment_id']\n",
    "# EXPERIMENT_ID = mlflow.create_experiment(EXPERIMENT_NAME)\n"
   ]
  },
  {
   "cell_type": "code",
   "execution_count": 39,
   "metadata": {},
   "outputs": [
    {
     "name": "stderr",
     "output_type": "stream",
     "text": [
      "2023/01/03 22:29:33 WARNING mlflow.utils.autologging_utils: MLflow autologging encountered a warning: \"/opt/homebrew/Caskroom/miniforge/base/envs/datium_test_py3.9/lib/python3.9/site-packages/_distutils_hack/__init__.py:33: UserWarning: Setuptools is replacing distutils.\"\n"
     ]
    }
   ],
   "source": [
    "RUN_NAME = \"selected_model\"\n",
    "with mlflow.start_run(experiment_id=EXPERIMENT_ID, run_name=RUN_NAME + f\"random_forest\") as run:\n",
    "    mlflow.sklearn.autolog()\n",
    "    rf = RandomForestRegressor()\n",
    "    rf.fit(x_train, y_train)\n"
   ]
  },
  {
   "cell_type": "code",
   "execution_count": 40,
   "metadata": {},
   "outputs": [
    {
     "data": {
      "text/plain": [
       "['../assets/model.save']"
      ]
     },
     "execution_count": 40,
     "metadata": {},
     "output_type": "execute_result"
    }
   ],
   "source": [
    "model_save_path = r\"../assets/model.save\"\n",
    "joblib.dump(rf, model_save_path)"
   ]
  },
  {
   "cell_type": "code",
   "execution_count": null,
   "metadata": {},
   "outputs": [],
   "source": []
  }
 ],
 "metadata": {
  "kernelspec": {
   "display_name": "Python 3.9.15 ('datium_test_py3.9')",
   "language": "python",
   "name": "python3"
  },
  "language_info": {
   "codemirror_mode": {
    "name": "ipython",
    "version": 3
   },
   "file_extension": ".py",
   "mimetype": "text/x-python",
   "name": "python",
   "nbconvert_exporter": "python",
   "pygments_lexer": "ipython3",
   "version": "3.9.15"
  },
  "orig_nbformat": 4,
  "vscode": {
   "interpreter": {
    "hash": "842d39daf15613f8695f87e3e9ecc9e966f963305a56be9371c83efbaeeb1f65"
   }
  }
 },
 "nbformat": 4,
 "nbformat_minor": 2
}
