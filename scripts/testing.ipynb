{
 "cells": [
  {
   "cell_type": "code",
   "execution_count": 1,
   "metadata": {},
   "outputs": [],
   "source": [
    "import joblib\n",
    "import pandas as pd"
   ]
  },
  {
   "cell_type": "markdown",
   "metadata": {},
   "source": [
    "### Testing assets"
   ]
  },
  {
   "cell_type": "code",
   "execution_count": 10,
   "metadata": {},
   "outputs": [],
   "source": [
    "scaler_path = r\"../assets/normalizer.save\"\n",
    "encoder_path = r\"../assets/encoder.save\"\n",
    "columns_used_path = r\"../assets/columns_used.save\"\n",
    "imputer_path = r\"../assets/imputer.save\"\n",
    "\n",
    "scaler = joblib.load(scaler_path)\n",
    "encoder = joblib.load(encoder_path)\n",
    "columns_used = joblib.load(columns_used_path)\n",
    "imputer = joblib.load(imputer_path)"
   ]
  },
  {
   "cell_type": "markdown",
   "metadata": {},
   "source": [
    "### Load testing data"
   ]
  },
  {
   "cell_type": "code",
   "execution_count": 2,
   "metadata": {},
   "outputs": [
    {
     "name": "stderr",
     "output_type": "stream",
     "text": [
      "/var/folders/8b/2xzjkyq14dz6gp0ygflgcj6w0000gn/T/ipykernel_7096/2384415063.py:2: DtypeWarning: Columns (27,91) have mixed types. Specify dtype option on import or set low_memory=False.\n",
      "  testing_df = pd.read_csv(testing_data_path, delimiter=\"\\t\")\n"
     ]
    }
   ],
   "source": [
    "testing_data_path = r\"../datasets/DatiumTest.rpt\"\n",
    "testing_df = pd.read_csv(testing_data_path, delimiter=\"\\t\")"
   ]
  },
  {
   "cell_type": "code",
   "execution_count": 3,
   "metadata": {},
   "outputs": [
    {
     "data": {
      "text/plain": [
       "(11488, 130)"
      ]
     },
     "execution_count": 3,
     "metadata": {},
     "output_type": "execute_result"
    }
   ],
   "source": [
    "testing_df.shape"
   ]
  },
  {
   "cell_type": "code",
   "execution_count": 6,
   "metadata": {},
   "outputs": [
    {
     "name": "stdout",
     "output_type": "stream",
     "text": [
      "Series : 165\n",
      "SeriesModelYear : 5822\n",
      "BadgeDescription : 813\n",
      "BadgeSecondaryDescription : 10157\n",
      "BodyConfigDescription : 9057\n",
      "WheelBaseConfig : 11095\n",
      "Roofline : 11288\n",
      "ExtraIdentification : 10550\n",
      "GearLocationDescription : 4\n",
      "GearNum : 9\n",
      "CamDescription : 9\n",
      "FuelCapacity : 15\n",
      "MethodOfDeliveryDescription : 12\n",
      "GrossCombinationMAss : 5723\n",
      "GrossVehicleMass : 3333\n",
      "VIN : 54\n",
      "WheelBase : 4\n",
      "Height : 13\n",
      "Length : 18\n",
      "Width : 10\n",
      "KerbWeight : 1126\n",
      "TareMass : 1543\n",
      "PayLoad : 4110\n",
      "Power : 4\n",
      "PowerRPMFrom : 11148\n",
      "PowerRPMTo : 4\n",
      "Torque : 3\n",
      "TorqueRPMFrom : 8486\n",
      "TorqueRPMTo : 12\n",
      "RonRating : 4138\n",
      "ModelCode : 1944\n",
      "ValvesCylinder : 4\n",
      "EngineConfigurationDescription : 7\n",
      "EngineNum : 213\n",
      "Acceleration : 9148\n",
      "FrontTyreSize : 18\n",
      "RearTyreSize : 18\n",
      "FrontRimDesc : 10\n",
      "RearRimDesc : 10\n",
      "TowingBrakes : 519\n",
      "TowingNoBrakes : 627\n",
      "WarrantyCustAssist : 5952\n",
      "FreeScheduledService : 11411\n",
      "WarrantyYears : 14\n",
      "WarrantyKM : 36\n",
      "FirstServiceKM : 1759\n",
      "FirstServiceMonths : 2537\n",
      "RegServiceMonths : 322\n",
      "AltEngEngineType : 11190\n",
      "AltEngBatteryType : 11191\n",
      "AltEngCurrentType : 11192\n",
      "AltEngAmpHours : 11488\n",
      "AltEngVolts : 11188\n",
      "AltEngChargingMethod : 11193\n",
      "AltEngPower : 11191\n",
      "AltEngPowerFrom : 11486\n",
      "AltEngPowerTo : 11476\n",
      "AltEngTorque : 11238\n",
      "AltEngTorqueFrom : 11488\n",
      "AltEngTorqueTo : 11486\n",
      "AltEngDrive : 11199\n",
      "NormalChargeMins : 11486\n",
      "QuickChargeMins : 11488\n",
      "NormalChargeVoltage : 11486\n",
      "QuickChargeVoltage : 11488\n",
      "KMRangeElectricEng : 11479\n",
      "ElectricEngineLocation : 11464\n",
      "TopSpeedElectricEng : 11481\n",
      "GreenhouseRating : 2704\n",
      "AirpollutionRating : 2704\n",
      "OverallGreenStarRating : 2611\n",
      "CO2Combined : 328\n",
      "CO2Urban : 2747\n",
      "CO2ExtraUrban : 2747\n",
      "FuelUrban : 1752\n",
      "FuelExtraurban : 1765\n",
      "FuelCombined : 162\n",
      "EmissionStandard : 4721\n",
      "MaxEthanolBlend : 8675\n",
      "AncapRating : 1992\n",
      "VFactsClass : 12\n",
      "VFactsSegment : 12\n",
      "VFactsPrice : 2508\n",
      "AverageKM : 15\n",
      "GoodKM : 15\n",
      "AvgWholesale : 53\n",
      "AvgRetail : 18\n",
      "GoodWholesale : 25\n",
      "GoodRetail : 14\n",
      "TradeMin : 53\n",
      "TradeMax : 53\n",
      "PrivateMax : 14\n",
      "NewPrice : 1\n",
      "Colour : 31\n",
      "Compliance_Date : 16\n",
      "Age_Comp_Months : 16\n",
      "KM : 3\n"
     ]
    },
    {
     "data": {
      "text/plain": [
       "[None,\n",
       " None,\n",
       " None,\n",
       " None,\n",
       " None,\n",
       " None,\n",
       " None,\n",
       " None,\n",
       " None,\n",
       " None,\n",
       " None,\n",
       " None,\n",
       " None,\n",
       " None,\n",
       " None,\n",
       " None,\n",
       " None,\n",
       " None,\n",
       " None,\n",
       " None,\n",
       " None,\n",
       " None,\n",
       " None,\n",
       " None,\n",
       " None,\n",
       " None,\n",
       " None,\n",
       " None,\n",
       " None,\n",
       " None,\n",
       " None,\n",
       " None,\n",
       " None,\n",
       " None,\n",
       " None,\n",
       " None,\n",
       " None,\n",
       " None,\n",
       " None,\n",
       " None,\n",
       " None,\n",
       " None,\n",
       " None,\n",
       " None,\n",
       " None,\n",
       " None,\n",
       " None,\n",
       " None,\n",
       " None,\n",
       " None,\n",
       " None,\n",
       " None,\n",
       " None,\n",
       " None,\n",
       " None,\n",
       " None,\n",
       " None,\n",
       " None,\n",
       " None,\n",
       " None,\n",
       " None,\n",
       " None,\n",
       " None,\n",
       " None,\n",
       " None,\n",
       " None,\n",
       " None,\n",
       " None,\n",
       " None,\n",
       " None,\n",
       " None,\n",
       " None,\n",
       " None,\n",
       " None,\n",
       " None,\n",
       " None,\n",
       " None,\n",
       " None,\n",
       " None,\n",
       " None,\n",
       " None,\n",
       " None,\n",
       " None,\n",
       " None,\n",
       " None,\n",
       " None,\n",
       " None,\n",
       " None,\n",
       " None,\n",
       " None,\n",
       " None,\n",
       " None,\n",
       " None,\n",
       " None,\n",
       " None,\n",
       " None,\n",
       " None]"
      ]
     },
     "execution_count": 6,
     "metadata": {},
     "output_type": "execute_result"
    }
   ],
   "source": [
    "[print(f\"{col} : {null_count}\") for col, null_count in testing_df.isnull().sum().items() if null_count>0]"
   ]
  },
  {
   "cell_type": "code",
   "execution_count": null,
   "metadata": {},
   "outputs": [],
   "source": []
  },
  {
   "cell_type": "markdown",
   "metadata": {},
   "source": [
    "### Select only cols used for features"
   ]
  },
  {
   "cell_type": "code",
   "execution_count": 11,
   "metadata": {},
   "outputs": [],
   "source": [
    "features_df = testing_df[columns_used].copy()"
   ]
  },
  {
   "cell_type": "code",
   "execution_count": 13,
   "metadata": {},
   "outputs": [
    {
     "data": {
      "text/plain": [
       "(11488, 69)"
      ]
     },
     "execution_count": 13,
     "metadata": {},
     "output_type": "execute_result"
    }
   ],
   "source": [
    "features_df.shape"
   ]
  },
  {
   "cell_type": "code",
   "execution_count": null,
   "metadata": {},
   "outputs": [],
   "source": []
  }
 ],
 "metadata": {
  "kernelspec": {
   "display_name": "Python 3.9.15 ('datium_test_py3.9')",
   "language": "python",
   "name": "python3"
  },
  "language_info": {
   "codemirror_mode": {
    "name": "ipython",
    "version": 3
   },
   "file_extension": ".py",
   "mimetype": "text/x-python",
   "name": "python",
   "nbconvert_exporter": "python",
   "pygments_lexer": "ipython3",
   "version": "3.9.15"
  },
  "orig_nbformat": 4,
  "vscode": {
   "interpreter": {
    "hash": "842d39daf15613f8695f87e3e9ecc9e966f963305a56be9371c83efbaeeb1f65"
   }
  }
 },
 "nbformat": 4,
 "nbformat_minor": 2
}
